{
  "nbformat": 4,
  "nbformat_minor": 0,
  "metadata": {
    "colab": {
      "provenance": [],
      "include_colab_link": true
    },
    "kernelspec": {
      "name": "python3",
      "display_name": "Python 3"
    },
    "language_info": {
      "name": "python"
    }
  },
  "cells": [
    {
      "cell_type": "markdown",
      "metadata": {
        "id": "view-in-github",
        "colab_type": "text"
      },
      "source": [
        "<a href=\"https://colab.research.google.com/github/chitranshi135/Lab2_AI/blob/main/UniformkSAT.ipynb\" target=\"_parent\"><img src=\"https://colab.research.google.com/assets/colab-badge.svg\" alt=\"Open In Colab\"/></a>"
      ]
    },
    {
      "cell_type": "code",
      "execution_count": 1,
      "metadata": {
        "id": "-X0UbHI-07XW"
      },
      "outputs": [],
      "source": [
        "import random"
      ]
    },
    {
      "cell_type": "code",
      "source": [
        "def generateInstance(n, k, m):\n",
        "\n",
        "  vars = []\n",
        "  for i in range(n):\n",
        "    vars.append((chr(i + 65)))\n",
        "\n",
        "  problem = \"((\"\n",
        "  clause = []\n",
        "\n",
        "  for i in range(k * m):\n",
        "\n",
        "    x = random.choice(vars)\n",
        "    vars.remove(x)\n",
        "    clause.append(x)\n",
        "\n",
        "    if(i % k == k - 1):\n",
        "      while len(clause) != 0:\n",
        "        vars.append(clause.pop(0))\n",
        "\n",
        "    y = random.random()\n",
        "    if y < 0.5:\n",
        "      problem += \"~\"\n",
        "    \n",
        "    problem += x\n",
        "\n",
        "    if i % k == k - 1 and i != (k * m - 1):\n",
        "      problem += \") and (\"\n",
        "    elif i != (k * m - 1):\n",
        "      problem += \" or \"\n",
        "  \n",
        "  problem += \"))\"\n",
        "      \n",
        "  return problem"
      ],
      "metadata": {
        "id": "OFx7GXdC1QGH"
      },
      "execution_count": 2,
      "outputs": []
    },
    {
      "cell_type": "code",
      "source": [
        "for i in range(10):\n",
        "  print(\"Problem \", i+1, \": \", generateInstance(15, 4, 3))\n"
      ],
      "metadata": {
        "colab": {
          "base_uri": "https://localhost:8080/"
        },
        "id": "_0btPkRh22w2",
        "outputId": "894d6422-f61b-4ec2-afa1-e7217bfaa982"
      },
      "execution_count": 3,
      "outputs": [
        {
          "output_type": "stream",
          "name": "stdout",
          "text": [
            "Problem  1 :  ((F or C or ~A or M) and (~C or ~G or D or J) and (~K or ~C or J or D))\n",
            "Problem  2 :  ((G or ~E or ~K or F) and (L or C or A or O) and (F or J or H or ~E))\n",
            "Problem  3 :  ((F or N or ~L or G) and (A or I or K or E) and (~N or ~M or C or ~I))\n",
            "Problem  4 :  ((H or C or ~K or ~I) and (N or ~D or H or E) and (~J or ~D or ~O or ~A))\n",
            "Problem  5 :  ((~N or I or H or E) and (N or ~H or ~E or K) and (~J or ~L or C or F))\n",
            "Problem  6 :  ((B or ~E or O or ~H) and (K or L or ~D or ~C) and (~E or ~M or ~L or ~O))\n",
            "Problem  7 :  ((~H or N or ~E or K) and (~F or E or ~I or ~G) and (M or J or ~H or ~F))\n",
            "Problem  8 :  ((~F or ~E or J or K) and (D or ~L or A or ~N) and (~F or L or C or ~I))\n",
            "Problem  9 :  ((K or ~N or F or ~D) and (~L or ~B or ~E or F) and (H or ~A or C or G))\n",
            "Problem  10 :  ((E or I or ~M or ~H) and (~H or O or G or ~L) and (~F or M or ~E or ~N))\n"
          ]
        }
      ]
    }
  ]
}